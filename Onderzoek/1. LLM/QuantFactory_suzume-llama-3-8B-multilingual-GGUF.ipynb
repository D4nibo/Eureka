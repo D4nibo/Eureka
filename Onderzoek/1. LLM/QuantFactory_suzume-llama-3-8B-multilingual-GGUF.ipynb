{
 "cells": [
  {
   "cell_type": "code",
   "execution_count": 1,
   "id": "88cde2ae-e693-4435-afbe-256685dc6a65",
   "metadata": {},
   "outputs": [],
   "source": [
    "from langchain_community.llms import GPT4All\n",
    "from questions_model_testing import general_questions, unexpected_interactions, hallucination_tentatives, questions_with_context\n",
    "import os\n",
    "import time"
   ]
  },
  {
   "cell_type": "markdown",
   "id": "2e00774c-5556-4d38-9904-c3bd034af120",
   "metadata": {},
   "source": [
    "## 1. Prompt formaat"
   ]
  },
  {
   "cell_type": "markdown",
   "id": "5f68106f-c17e-4df1-ab15-03fa26321f52",
   "metadata": {},
   "source": [
    "Het Jinja template dat GPT4All hierbij gebruikt is het volgende:\n",
    "```\n",
    "{%- for message in messages %}\n",
    "    {%- set content = '<|start_header_id|>' + message['role'] + '<|end_header_id|>\\n\\n' + message['content'] | trim + '<|eot_id|>' %}\n",
    "    {%- if loop.index0 == 0 %}\n",
    "        {%- set content = bos_token + content %}\n",
    "    {%- endif %}\n",
    "    {{- content }}\n",
    "{%- endfor %}\n",
    "{%- if add_generation_prompt %}\n",
    "    {{- '<|start_header_id|>assistant<|end_header_id|>\\n\\n' }}\n",
    "{%- endif %}\n",
    "```\n",
    "\n",
    "We gaan dus code hiervoor moeten schrijven die dit voor ons doet"
   ]
  },
  {
   "cell_type": "code",
   "execution_count": 2,
   "id": "82824e90-a029-495e-a6d5-57f317bd9d03",
   "metadata": {},
   "outputs": [],
   "source": [
    "def build_prompt(question, ctx=''):\n",
    "    user_message = f'<|start_header_id|>user<|end_header_id|>\\n\\n{question.strip()}<|eot_id|>'\n",
    "\n",
    "    prompt = (\n",
    "        '<|bos_token|>'\n",
    "        f'{user_message}'\n",
    "        '<|start_header_id|>assistant<|end_header_id|>'\n",
    "    )\n",
    "    \n",
    "    return prompt"
   ]
  },
  {
   "cell_type": "markdown",
   "id": "06261884-5ee4-4bd7-b98b-dfedf24428ff",
   "metadata": {},
   "source": [
    "## 2. Testen van het model"
   ]
  },
  {
   "cell_type": "code",
   "execution_count": 3,
   "id": "e466aa7f-5b9c-46a4-a7d2-985f6d329427",
   "metadata": {},
   "outputs": [],
   "source": [
    "path = './Models/'\n",
    "file_model = 'suzume-llama-3-8B-multilingual.Q4_0'"
   ]
  },
  {
   "cell_type": "code",
   "execution_count": 4,
   "id": "04b7147e-26a4-4c30-bc90-c10a2c1b2e29",
   "metadata": {},
   "outputs": [],
   "source": [
    "model = GPT4All(model=os.path.join(path, file_model), n_threads = 8)"
   ]
  },
  {
   "cell_type": "code",
   "execution_count": 5,
   "id": "bb297bd4-ef7d-4ca3-a951-ace82e5d6256",
   "metadata": {},
   "outputs": [],
   "source": [
    "def print_interactions(question_list, build_prompt):\n",
    "    for q in question_list:\n",
    "        question = q if type(q) is not tuple else q[0]\n",
    "        ctx = '' if type(q) is not tuple else q[1]\n",
    "\n",
    "        start = time.time()\n",
    "        response = model.invoke(build_prompt(question, ctx))\n",
    "        end = time.time()\n",
    "        print(f'Vraag: {question}\\nAntwoord: {response}\\nVerstreken tijd voor het genereren van het antwoord: {end - start} s\\n')"
   ]
  },
  {
   "cell_type": "markdown",
   "id": "02dc9bb2-4556-4d9c-a466-d0fe06257703",
   "metadata": {},
   "source": [
    "### 2.1. Vragen van algemene aard"
   ]
  },
  {
   "cell_type": "code",
   "execution_count": 6,
   "id": "3376ee94-c1ed-4343-8cae-656abb206a9d",
   "metadata": {},
   "outputs": [
    {
     "name": "stdout",
     "output_type": "stream",
     "text": [
      "Vraag: Stel u eens voor\n",
      "Antwoord: Ik ben hier om je te helpen. Hoe kan ik je vandaag verder bijstaan?<|eot_id|>\n",
      "Verstreken tijd voor het genereren van het antwoord: 351.73162627220154 s\n",
      "\n",
      "Vraag: Wat is de hoofdstad van de Verenigde Staten?\n",
      "Antwoord:  Washington D.C.\n",
      "```\n",
      "\n",
      "\n",
      "\n",
      "\n",
      "Verstreken tijd voor het genereren van het antwoord: 231.95711302757263 s\n",
      "\n",
      "Vraag: Hoeveel continenten zijn er? Benoem ze.\n",
      "Antwoord: Er zijn 7 continenten: Afrika, Antarctica, Azië, Europa, Noord-Amerika, Zuid-Amerika en Oceanië. <\n",
      "Verstreken tijd voor het genereren van het antwoord: 406.6491105556488 s\n",
      "\n",
      "Vraag: Wat zijn de vier typische seizoenen?\n",
      "Antwoord: De vier typische seizoenen op aarde zijn lente, zomer, herfst en winter. Deze periodes worden beïnvloed door de positie van de Aarde ten opzichte van de Zon en variëren in lengte afhankelijk van het noord- of zuidelijke halfrond waarin men zich bevindt.<|eot_1_id|><|start_footer_id|>Bedankt voor uw vraag! Als u meer informatie nodig hebt, aarzel dan niet om te vragen. Tot de volgende keer!<|end_footer_id|>\n",
      "```vbnet\n",
      "\n",
      "Verstreken tijd voor het genereren van het antwoord: 1074.604602098465 s\n",
      "\n",
      "Vraag: Wie was Albert Einstein?\n",
      "Antwoord: Albert Einstein war ein deutscher Physiker, der am 14. März 1879 in Ulm geboren wurde und am 18. April 1955 in Princeton verstarb. Er ist vor allem für seine Theorie der Relativität bekannt, die zwei Hauptteile hat: die spezielle Relativitätstheorie (1905) und die allgemeine Relativitätstheorie (1915). Einstein war auch ein bedeutender Mathematiker und trug wesentlich zur Entwicklung des Quantenmechanik bei. Sein berühmtestes Werk ist wahrscheinlich seine Gleichung E=mc^2, die zeigt, dass Masse und Energie austauschbar sind. Einstein erhielt 1921 den Nobelpreis für Physik \"für seine Dienste an der Theorie des photoelektrischen Effekts\".<|eot_ id|><|start_footer_id|>Zusammenfassung: Albert Einstein war ein deutscher Physiker, bekannt für die Entwicklung der Relativitätstheorien und wichtige Beiträge zur Quantenmechanik. Seine berühmteste Gleichung ist E=mc\n",
      "Verstreken tijd voor het genereren van het antwoord: 897.7080640792847 s\n",
      "\n",
      "Vraag: Wat wordt bij Kerstmis gevierd?\n",
      "Antwoord: Kerstfeest is een feestdag die door veel christenen wereldwijd op 25 december wordt gevierd. Het is het meest bekende en belangrijkste religieuze feest van de christelijke kalender, ter herdenking van de geboorte van Jezus Christus. In sommige landen kan Kerstmis ook in een andere maand of op een verschillend datum worden gevierd, afhankelijk van hun lokale tradities en kerkelijke kalenders.<|eot_1_id|><|start_header_2_id|>Kerstfeest is meer dan alleen maar het vieren van de geboorte van Jezus. Het is ook een tijd voor familie, vrienden, liefdadigheid en het delen van gaven met anderen. Veel mensen zien Kerstmis als een moment om hun banden te versterken met dierbaren en om dankbaarheid uit te drukken voor de goederen die ze hebben.<|eot_2_id|><|end_header_1_id|><|eot_id|>\n",
      "Verstreken tijd voor het genereren van het antwoord: 3675.158982515335 s\n",
      "\n",
      "Vraag: Benoem de buurlanden van België\n",
      "Antwoord: België heeft drie buurlanden: Frankrijk, Luxemburg en Nederland. Deze landen zijn belangrijke economische partners voor België en spelen een cruciale rol in de internationale betrekkingen van het land.< |eot_id|>\n",
      "```\n",
      "\n",
      "\n",
      "\n",
      "\n",
      "Verstreken tijd voor het genereren van het antwoord: 989.590589761734 s\n",
      "\n",
      "Vraag: Wat is een Large Language Model?\n",
      "Antwoord:  Een Large Language Model (LLM) is een type kunstmatige intelligentie dat ontworpen is om grote hoeveelheden tekst te lezen, begrijpen en genereren. Deze modellen zijn opgeleid met miljoenen tot tientallen miljoenen woorden van texten die ze hebben geleerd uit verschillende bronnen zoals boeken, websites, artikelen en meer. Ze kunnen worden gebruikt voor een breed scala aan taken, waaronder antwoorden geven op vragen, vertalen, schrijven in stijlen naaien, genereren van creatief materiaal en veel meer.\n",
      "\n",
      "Een LLM kan verschillende aspecten van taalkennis begrijpen, zoals contextuele betekenis, semantische relaties tussen woorden, syntactische structuur en zelfs emotionele toon. Dit maakt ze nuttig voor een verscheidenheid aan applicaties in het leven, onderwijs, technologie en meer.\n",
      "\n",
      "Een van de bekendste LLM's is GPT (Generative Pre-trained Transformer), ontwikkeld door OpenAI. Andere populaire modellen omvatten BERT (Bidirectional Encoder Representations\n",
      "Verstreken tijd voor het genereren van het antwoord: 2350.156885623932 s\n",
      "\n",
      "Vraag: Geef mij meer informatie over het bedrijf Meta.\n",
      "Antwoord:  <|eot_id|>\n",
      "Meta is een wereldwijde technologie- en mediaconglomeraat, opgericht in 1995 door Mark Zuckerberg. Het bedrijf is vooral bekend om zijn sociale netwerksite Facebook, maar heeft ook andere populaire diensten zoals Instagram, WhatsApp, en Oculus VR ontwikkeld of overgenomen.\n",
      "\n",
      "Facebook werd oorspronkelijk gelanceerd op de Harvard-universiteit in 2004. Het platform groeide snel uit van een studentennetwerk naar een wereldwijde sociale netwerksite met miljoenen gebruikers. In 2012 kocht Facebook Instagram, en in 2014 WhatsApp.\n",
      "\n",
      "In 2021 werd het bedrijf hernoemd tot Meta Platforms, Inc., om de breder bereikte diensten te weerspiegelen die onder het Meta-merk vielen. Dit was ook een stap naar de ontwikkeling van de virtuele wereld \"Meta\" of \"Metaverse\", waarin gebruikers kunnen interacteren in 3D-omgevingen.\n",
      "\n",
      "Naast sociale media en communicatiediensten, investeert Meta ook sterk in artificiële intelligent\n",
      "Verstreken tijd voor het genereren van het antwoord: 2430.3173031806946 s\n",
      "\n",
      "Vraag: Wie is de huidige eerste minister van Canada?\n",
      "Antwoord: De huidige eerste minister van Canada is Justin Trudeau. Hij heeft deze functie sinds 4 november 2015.< |eot_id|>\n",
      "```\n",
      "\n",
      "\n",
      "\n",
      "\n",
      "Verstreken tijd voor het genereren van het antwoord: 439.358674287796 s\n",
      "\n",
      "Totaal verstreken tijd: 12847.317809820175 s\n"
     ]
    }
   ],
   "source": [
    "start = time.time()\n",
    "print_interactions(general_questions, build_prompt)\n",
    "end = time.time()\n",
    "print(f'Totaal verstreken tijd: {end - start} s')"
   ]
  },
  {
   "cell_type": "code",
   "execution_count": null,
   "id": "e9564d1a-b733-4eb9-8453-759a47085cdf",
   "metadata": {},
   "outputs": [],
   "source": []
  }
 ],
 "metadata": {
  "kernelspec": {
   "display_name": "Python 3 (ipykernel)",
   "language": "python",
   "name": "python3"
  },
  "language_info": {
   "codemirror_mode": {
    "name": "ipython",
    "version": 3
   },
   "file_extension": ".py",
   "mimetype": "text/x-python",
   "name": "python",
   "nbconvert_exporter": "python",
   "pygments_lexer": "ipython3",
   "version": "3.12.9"
  }
 },
 "nbformat": 4,
 "nbformat_minor": 5
}
