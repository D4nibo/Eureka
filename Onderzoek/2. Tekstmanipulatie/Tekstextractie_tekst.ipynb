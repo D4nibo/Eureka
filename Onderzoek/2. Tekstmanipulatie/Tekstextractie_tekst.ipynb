{
 "cells": [
  {
   "cell_type": "code",
   "execution_count": 1,
   "id": "2027e6dc-2140-42ea-8b2f-b38395ef37dd",
   "metadata": {},
   "outputs": [],
   "source": [
    "import os\n",
    "from langchain_community.document_loaders import PyMuPDFLoader\n",
    "import pytesseract\n",
    "from langchain_community.document_loaders.parsers import TesseractBlobParser\n",
    "import time\n",
    "from statistics import mean"
   ]
  },
  {
   "cell_type": "markdown",
   "id": "d4f61946-9a23-42f0-bb58-82a9cdfb10b0",
   "metadata": {},
   "source": [
    "# Tekstextractie uit PDF-bestanden - Tesktformaat"
   ]
  },
  {
   "cell_type": "markdown",
   "id": "3b2a3717-97b3-404a-bf02-751ac120a4ed",
   "metadata": {},
   "source": [
    "## 1. Doelstelling"
   ]
  },
  {
   "cell_type": "markdown",
   "id": "d35fae67-b1f3-4ee0-b460-8f4120d022f0",
   "metadata": {},
   "source": [
    "De meeste informatiebronnen waarover we beschikken zijn in PDF-formaat, of kunnen eenvoudig naar PDF worden omgezet. Aangezien een RAG-pijplijn werkt met tekst en niet met bestanden, is het belangrijk dat we de inhoud van deze documenten kunnen extraheren.\n",
    "\n",
    "De meest voor de hand liggende manier om dit aan te pakken, is door simpelweg de platte tekst uit de PDF-bestanden te halen. Er bestaan verschillende tools die dit mogelijk maken, waarvan de bekendste waarschijnlijk [PyMuPDF](https://pymupdf.readthedocs.io/en/latest/) is.\n",
    "\n",
    "We zullen dit tool, via de [Langchain wrapper](https://python.langchain.com/docs/integrations/document_loaders/pymupdf/), gebruiken om het volgende na te gaan:\n",
    "\n",
    "- Hoe wordt het gebruikt? Is het gebruiksvriendelijk?\n",
    "- Hoeveel tijd neemt de omzetting in beslag?\n",
    "- Is de gegenereerde tekst van goede kwaliteit?"
   ]
  },
  {
   "cell_type": "markdown",
   "id": "6c7ebe88-f1a6-45aa-8d18-5f93fcb8fb70",
   "metadata": {},
   "source": [
    "## 2. Methodologie"
   ]
  },
  {
   "cell_type": "markdown",
   "id": "074802e6-c948-40c5-845d-a0fc30086300",
   "metadata": {},
   "source": [
    "Om de bruikbaarheid en efficiëntie — met andere woorden, de kwaliteit van de gegenereerde tekst en de tijd die de omzetting in beslag neemt — van PyMuPDF te evalueren, zullen we vier types PDF-bestanden omzetten. Bij elke omzetting meten we de benodigde tijd met behulp van de `time`-module en beoordelen we in welke mate de gegenereerde tekst trouw blijft aan de oorspronkelijke inhoud van de PDF.\n",
    "\n",
    "De vier bestandssoorten die we testen zijn:\n",
    "\n",
    "- **Studiewijzers**: Deze zijn beschikbaar via Chamilo en maken dus deel uit van een webpagina. Chamilo biedt de mogelijkheid om studiewijzers te exporteren naar PDF-formaat.\n",
    "- **Slides**: Dit zijn PDF-bestanden die rechtstreeks door docenten worden aangeleverd en de leerstof van een vak bevatten. Er is hierbij geen verdere verwerking nodig.\n",
    "- **Bijzondere slides**: Voor het vak *Infrastructure Automation* (en ook voor AI & Data Science) zijn de slides oorspronkelijk geschreven in Markdown, omgezet via Pandoc naar presentaties en gepubliceerd via GitHub Pages. De originele Markdown-bestanden zijn beschikbaar op GitHub. In dit geval willen we nagaan of de tools een resultaat kunnen genereren dat vergelijkbaar is met de oorspronkelijke Markdown.\n",
    "- **datalinux.pdf**: Dit is de syllabus van het vak Linux for Data Scientists. Het is een omvangrijk document van ongeveer 300 pagina’s. Het doel hier is om de tools tot het uiterste te testen en te observeren hoeveel tijd ze nodig hebben om een dergelijk groot bestand te verwerken."
   ]
  },
  {
   "cell_type": "markdown",
   "id": "fda65c3c-d9b3-48cc-918e-4dfc6c5e656e",
   "metadata": {},
   "source": [
    "## 3. Uittesten"
   ]
  },
  {
   "cell_type": "code",
   "execution_count": 2,
   "id": "e2436d43-70c6-428e-bee8-6f7d22f0fef4",
   "metadata": {},
   "outputs": [],
   "source": [
    "# Definiêren van de verschillende paden waarin de  bestanden opgeslagen zijn/zullen worden.\n",
    "pdfs_path = './pdfs/'\n",
    "texts_path = './texts/'\n",
    "\n",
    "studiewijzers_path = 'Studiewijzers/'\n",
    "slides_path = 'Slides/'\n",
    "special_slides_path = 'Bijzondere_slides/'\n",
    "syllabus_path = 'Syllabus/'"
   ]
  },
  {
   "cell_type": "code",
   "execution_count": 3,
   "id": "369d4d77-2276-4371-8ee8-836c46a816c5",
   "metadata": {},
   "outputs": [],
   "source": [
    "#pytesseract.pytesseract.tesseract_cmd = 'C:/Program Files/Tesseract-OCR/tesseract.exe'"
   ]
  },
  {
   "cell_type": "code",
   "execution_count": 4,
   "id": "70550fc6-dba0-469a-9f75-b6504d66690a",
   "metadata": {},
   "outputs": [],
   "source": [
    "# This helpfunction will measure the times it takes to convert a file\n",
    "def chrono(path_to_pdfs, path_to_texts):\n",
    "    time_taken = {}\n",
    "    times = []\n",
    "\n",
    "    for e in os.scandir(path_to_pdfs):\n",
    "        start = time.time()\n",
    "        \n",
    "        filename = e.name[:-4]\n",
    "        loader = PyMuPDFLoader(\n",
    "            e.path,\n",
    "            mode='single',\n",
    "            extract_tables=\"markdown\",\n",
    "            #images_inner_format='text',\n",
    "            #images_parser=TesseractBlobParser(),\n",
    "        )\n",
    "        doc = loader.load()\n",
    "        text = doc[0].page_content\n",
    "        \n",
    "        with open(f'{os.path.join(path_to_texts, filename)}.txt', \"w\", encoding=\"utf-8\") as f:\n",
    "            f.write(text)\n",
    "        \n",
    "        end = time.time()\n",
    "        \n",
    "        time_taken[filename] = end - start\n",
    "\n",
    "    for f, t in time_taken.items():\n",
    "        print(f'{f}: {t}s')\n",
    "        times.append(t)\n",
    "\n",
    "    print(f'\\nTotal time taken: {sum(times)} s')\n",
    "    print(f'Average time taken: {mean(times)} s\\n')"
   ]
  },
  {
   "cell_type": "markdown",
   "id": "5543990d-dc4e-410c-b03b-74cd4d1c5f6c",
   "metadata": {},
   "source": [
    "### 3.1. Studiewijzers"
   ]
  },
  {
   "cell_type": "code",
   "execution_count": 5,
   "id": "8c0587a5-bba4-40f5-bfc2-d9d5b636a035",
   "metadata": {},
   "outputs": [],
   "source": [
    "studiewijzers_pdfs_path = os.path.join(pdfs_path, studiewijzers_path)\n",
    "studiewijzers_texts_path = os.path.join(texts_path, studiewijzers_path)"
   ]
  },
  {
   "cell_type": "code",
   "execution_count": 6,
   "id": "8751e1fa-a61e-4476-8926-430add8d893c",
   "metadata": {},
   "outputs": [
    {
     "name": "stdout",
     "output_type": "stream",
     "text": [
      "Studiewijzer_AI_Data_Science: 10.243871688842773s\n",
      "Studiewijzer_Infrastructure_Automation: 4.031424522399902s\n",
      "Studiewijzer_linux_for_Data_Scientists: 5.372938871383667s\n",
      "\n",
      "Total time taken: 19.648235082626343 s\n",
      "Average time taken: 6.549411694208781 s\n",
      "\n"
     ]
    }
   ],
   "source": [
    "chrono(studiewijzers_pdfs_path, studiewijzers_texts_path)"
   ]
  },
  {
   "cell_type": "markdown",
   "id": "e4a08fa5-d2b3-4db7-b7ae-c7cdaed72513",
   "metadata": {},
   "source": [
    "### 3.1. Slides"
   ]
  },
  {
   "cell_type": "code",
   "execution_count": 7,
   "id": "d3480a5b-c488-435c-b0f5-ef594bf1808f",
   "metadata": {},
   "outputs": [],
   "source": [
    "slides_pdfs_path = os.path.join(pdfs_path, slides_path)\n",
    "slides_texts_path = os.path.join(texts_path, slides_path)"
   ]
  },
  {
   "cell_type": "code",
   "execution_count": 8,
   "id": "747f139a-e910-4bac-b503-ac39e72b0e43",
   "metadata": {},
   "outputs": [
    {
     "name": "stdout",
     "output_type": "stream",
     "text": [
      "dsai-en-0-intro: 0.3008284568786621s\n",
      "dsai-en-1-sampling: 0.28070974349975586s\n",
      "dsai-en-2-univariate: 0.40171027183532715s\n",
      "dsai-en-3a-central-limit-theorem: 1.3058478832244873s\n",
      "dsai-en-3b-hypothesis-testing: 0.46152591705322266s\n",
      "dsai-en-4-bivariate-qual-qual: 0.5171277523040771s\n",
      "dsai-en-5-bivariate-qual-quant: 0.3396742343902588s\n",
      "dsai-en-6-bivariate-quant-quant: 0.29468441009521484s\n",
      "dsai-en-7-timeseries: 0.3831017017364502s\n",
      "\n",
      "Total time taken: 4.285210371017456 s\n",
      "Average time taken: 0.4761344856686062 s\n",
      "\n"
     ]
    }
   ],
   "source": [
    "chrono(slides_pdfs_path, slides_texts_path)"
   ]
  },
  {
   "cell_type": "markdown",
   "id": "c5db9885-7378-4c01-9c3d-e6363e7ce950",
   "metadata": {},
   "source": [
    "### 3.3. Bijzondere slides"
   ]
  },
  {
   "cell_type": "code",
   "execution_count": 9,
   "id": "7fe367c7-31c7-4643-a8d7-1db9845384b2",
   "metadata": {},
   "outputs": [],
   "source": [
    "special_slides_pdfs_path = os.path.join(pdfs_path, special_slides_path)\n",
    "special_slides_texts_path = os.path.join(texts_path, special_slides_path)"
   ]
  },
  {
   "cell_type": "code",
   "execution_count": 10,
   "id": "8a987542-af17-4694-9937-2d8071746b0b",
   "metadata": {},
   "outputs": [
    {
     "name": "stdout",
     "output_type": "stream",
     "text": [
      "1. Continuous Integration_ Deployment with Jenkins: 0.4373805522918701s\n",
      "2. Configuration Management with Ansible: 0.49861931800842285s\n",
      "3. Container orchestration with Kubernetes: 0.8254592418670654s\n",
      "4. Monitoring with Prometheus: 0.45254087448120117s\n",
      "Infrastructure Automation_ inleiding: 0.5080986022949219s\n",
      "\n",
      "Total time taken: 2.7220985889434814 s\n",
      "Average time taken: 0.5444197177886962 s\n",
      "\n"
     ]
    }
   ],
   "source": [
    "chrono(special_slides_pdfs_path, special_slides_texts_path)"
   ]
  },
  {
   "cell_type": "markdown",
   "id": "99db67a5-f166-411f-8652-c554dd187023",
   "metadata": {},
   "source": [
    "### 3.4. Syllabus"
   ]
  },
  {
   "cell_type": "code",
   "execution_count": 11,
   "id": "7e8446bd-f481-4a54-8ae9-66e3caf62b77",
   "metadata": {},
   "outputs": [],
   "source": [
    "syllabus_pdfs_path = os.path.join(pdfs_path, syllabus_path)\n",
    "syllabus_texts_path = os.path.join(texts_path, syllabus_path)"
   ]
  },
  {
   "cell_type": "code",
   "execution_count": 12,
   "id": "67e979fd-25eb-4b6d-86fb-1f0c1ac6f92c",
   "metadata": {},
   "outputs": [
    {
     "name": "stdout",
     "output_type": "stream",
     "text": [
      "datalinux: 18.77149248123169s\n",
      "\n",
      "Total time taken: 18.77149248123169 s\n",
      "Average time taken: 18.77149248123169 s\n",
      "\n"
     ]
    }
   ],
   "source": [
    "chrono(syllabus_pdfs_path, syllabus_texts_path)"
   ]
  },
  {
   "cell_type": "markdown",
   "id": "a1cbd5f5-e6b9-49e1-84a8-60ef3c319580",
   "metadata": {},
   "source": [
    "## 4. Besluit"
   ]
  },
  {
   "cell_type": "markdown",
   "id": "b2e2ad2d-59bc-45d0-a113-cddc76b60111",
   "metadata": {},
   "source": [
    "> **Opgelet**: De cijfers die hier besproken worden, zijn geldig op 27 april 2025. We kunnen hun nauwkeurigheid na deze datum niet garanderen.\n",
    "> \n",
    "Het opzetten en gebruiken van PyMuPDF is zeer eenvoudig; het draait om het correct instantieren van de juiste objecten en het aanroepen van de juiste methoden. Bovendien zijn de verwerkingstijden snel:\n",
    "\n",
    "|                   | Gemiddele verwerkingstijd   |\n",
    "|-------------------|-----------------------------|\n",
    "| Studiewijzers     | 7s                          |\n",
    "| Slides            | 0.5s                        |\n",
    "| Bijzondere slides | 0.5s                        |\n",
    "| Syllabus          | 19s                         |\n",
    "\n",
    "De gegenereerde tekst is va, goede kwaliteit; op basis van onze waarnemingen lijkt het dat de gehele inhoud van de PDF-bestanden succesvol wordt geëxtraheerd. Dit pluspunt is echter ook een minpunt, omdat PyMuPDF alles extraheert, inclusief ruis in de data (zoals paginanummering op slides).\n",
    "\n",
    "Het probleem bij het extraheren van platte tekst is dat we de structuur van het PDF-bestand verliezen, terwijl achter die structuur semantische informatie schuilgaat. We geloven dat dit het chunkingproces ingewikkelder zal maken, omdat er meer moeite gestoken moet worden in het creëren van samenhangende en betekenisvolle chunks die aan de LLM gevoed zullen worden."
   ]
  }
 ],
 "metadata": {
  "kernelspec": {
   "display_name": "Python 3 (ipykernel)",
   "language": "python",
   "name": "python3"
  },
  "language_info": {
   "codemirror_mode": {
    "name": "ipython",
    "version": 3
   },
   "file_extension": ".py",
   "mimetype": "text/x-python",
   "name": "python",
   "nbconvert_exporter": "python",
   "pygments_lexer": "ipython3",
   "version": "3.12.9"
  }
 },
 "nbformat": 4,
 "nbformat_minor": 5
}
