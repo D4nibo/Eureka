{
 "cells": [
  {
   "cell_type": "code",
   "execution_count": null,
   "id": "c11e3e94-7fb0-4683-8676-9cf4143b863b",
   "metadata": {},
   "outputs": [],
   "source": [
    "from marker.converters.pdf import PdfConverter\n",
    "from marker.models import create_model_dict\n",
    "from marker.output import text_from_rendered, save_output\n",
    "from marker.config.parser import ConfigParser\n",
    "import pymupdf4llm\n",
    "from statistics import mean\n",
    "import time\n",
    "import os\n",
    "import pathlib\n",
    "from docling.document_converter import DocumentConverter"
   ]
  },
  {
   "cell_type": "markdown",
   "id": "5fe7ad54-6508-437b-a5e8-4fcbb14a5a76",
   "metadata": {},
   "source": [
    "# Tekstextractie uit PDF-bestanden - Markdown-formaat"
   ]
  },
  {
   "cell_type": "markdown",
   "id": "9f47d6ad-6698-4d60-bc25-eff73b394a17",
   "metadata": {},
   "source": [
    "## 1. Doelstellingen"
   ]
  },
  {
   "cell_type": "markdown",
   "id": "c8d07d49-c1b2-42dd-b2ac-e1ef52878290",
   "metadata": {},
   "source": [
    "De meeste informatiebronnen waarover we beschikken zijn in PDF-formaat, of kunnen eenvoudig naar PDF worden omgezet. Aangezien een RAG-pijplijn werkt met tekst en niet met bestanden, is het belangrijk dat we de inhoud van deze documenten kunnen extraheren.\n",
    "\n",
    "Een eenvoudige extractie van platte tekst is echter geen ideale aanpak. PDF-bestanden bevatten vaak een duidelijke structuur – zoals titels, subtitels, lijsten en tabellen – die semantische informatie verbergt. Bij blinde extractie gaat die structuur verloren, waardoor het moeilijker wordt om samenhangende en betekenisvolle chunks aan te maken. Dit vergroot de kans dat de LLM in verwarring wordt gebracht in relatie tot de gestelde vraag.\n",
    "\n",
    "Daarom richten we ons tot Markdown. Markdown is een eenvoudige opmaaktaal waarmee de structuur van een document expliciet wordt weergegeven in de tekst zelf. Door PDF-bestanden om te zetten naar Markdown kunnen we de oorspronkelijke opbouw van een document grotendeels behouden. Dit helpt de LLM om de informatie beter te begrijpen en relevantere antwoorden te genereren.\n",
    "\n",
    "In dit notebook onderzoeken we drie tools – [Marker](https://github.com/VikParuchuri/marker), [PyMuPDF4LLM](https://pymupdf.readthedocs.io/en/latest/pymupdf4llm/) en [Docling](https://docling-project.github.io/docling/) – die allemaal beweren in staat te zijn om dit te doen. We willen daarbij het volgende nagaan:\n",
    "\n",
    "- Hoe worden de respectieve tools gebruikt? Zijn ze gebruiksvriendelijk?\n",
    "- Hoeveel tijd neemt de omzetting in beslag?\n",
    "- Is de gegenereerde Markdown van goede kwaliteit?"
   ]
  },
  {
   "cell_type": "markdown",
   "id": "9879e2b7-f28d-478f-a671-679e1ca6bdc9",
   "metadata": {},
   "source": [
    "## 2. Methodologie"
   ]
  },
  {
   "cell_type": "markdown",
   "id": "dc733c28-0481-4008-88ed-89554cc46227",
   "metadata": {},
   "source": [
    "Om de bruikbaarheid en efficiëntie — met andere woorden, de kwaliteit van de gegenereerde Markdown en de tijd die de omzetting in beslag neemt — van de tools te evalueren, zullen we vier types PDF-bestanden omzetten. Bij elke omzetting meten we de benodigde tijd met behulp van de `time`-module, en beoordelen we in welke mate de gegenereerde Markdown de structuur van het oorspronkelijke document weet te behouden.\n",
    "\n",
    "De vier bestandssoorten die we testen zijn:\n",
    "\n",
    "- **Studiewijzers**: Deze zijn beschikbaar via Chamilo en maken dus deel uit van een webpagina. Chamilo biedt de mogelijkheid om studiewijzers te exporteren naar PDF-formaat.\n",
    "- **Slides**: Dit zijn PDF-bestanden die rechtstreeks door docenten worden aangeleverd en de leerstof van een vak bevatten. Er is hierbij geen verdere verwerking nodig.\n",
    "- **Bijzondere slides**: Voor het vak *Infrastructure Automation* (en ook voor AI & Data Science) zijn de slides oorspronkelijk geschreven in Markdown, omgezet via Pandoc naar presentaties en gepubliceerd via GitHub Pages. De originele Markdown-bestanden zijn beschikbaar op GitHub. In dit geval willen we nagaan of de tools een resultaat kunnen genereren dat vergelijkbaar is met de oorspronkelijke Markdown.\n",
    "- **datalinux.pdf**: Dit is de syllabus van het vak Linux for Data Scientists. Het is een omvangrijk document van ongeveer 300 pagina’s. Het doel hier is om de tools tot het uiterste te testen en te observeren hoeveel tijd ze nodig hebben om een dergelijk groot bestand te verwerken."
   ]
  },
  {
   "cell_type": "markdown",
   "id": "4db06ecf-8da4-4a37-9432-1e42502fe2e3",
   "metadata": {},
   "source": [
    "## 3. Uittesten"
   ]
  },
  {
   "cell_type": "code",
   "execution_count": 3,
   "id": "56d10115-8cf0-454a-b958-8d0fff5172dc",
   "metadata": {},
   "outputs": [],
   "source": [
    "pdfs_path = './pdfs/'\n",
    "markdowns_path = './markdowns/'\n",
    "\n",
    "studiewijzers_pdf_path = os.path.join(pdfs_path, 'Studiewijzers/')\n",
    "slides_pdf_path = os.path.join(pdfs_path, 'Slides/')\n",
    "special_slides_pdf_path = os.path.join(pdfs_path, 'Bijzondere_slides/')\n",
    "syllabus_pdf_path = os.path.join(pdfs_path, 'Syllabus/')"
   ]
  },
  {
   "cell_type": "code",
   "execution_count": 4,
   "id": "6cdf25b6-4d6d-421e-9ee1-f94180caef4f",
   "metadata": {},
   "outputs": [],
   "source": [
    "def chrono(path_to_pdfs, path_to_markdowns, save_markdown):\n",
    "    time_taken = {}\n",
    "    times = []\n",
    "    \n",
    "    for e in os.scandir(path_to_pdfs):\n",
    "        start = time.time()\n",
    "        save_markdown(e, path_to_markdowns)\n",
    "        end = time.time()\n",
    "        \n",
    "        time_taken[e.name[:-4]] = end-start\n",
    "    \n",
    "    for f, t in time_taken.items():\n",
    "        print(f'{f}: {t}s')\n",
    "        times.append(t)\n",
    "\n",
    "    print(f'\\nTotal time taken: {sum(times)} s')\n",
    "    print(f'Average time taken: {mean(times)} s\\n')"
   ]
  },
  {
   "cell_type": "markdown",
   "id": "d5a83225-6ee9-4c4b-98a6-c6ad3241cc3d",
   "metadata": {},
   "source": [
    "### 3.1. Marker"
   ]
  },
  {
   "cell_type": "code",
   "execution_count": 5,
   "id": "1eb869df-cbfb-425c-9180-efd89a13eed0",
   "metadata": {},
   "outputs": [],
   "source": [
    "marker_markdowns_path = os.path.join(markdowns_path, 'Marker/')"
   ]
  },
  {
   "cell_type": "code",
   "execution_count": 6,
   "id": "68272895-11e7-4c77-98fc-17bffddcbb97",
   "metadata": {},
   "outputs": [],
   "source": [
    "# Aanmaken van de configuratie-object. Deze object wordt intern \n",
    "# door Marker gebruikt om na te gaan hoe de omzetting moet gebeuren.\n",
    "# De gehele lijst van opties kan bekeken worden door marker_single --help \n",
    "# in een console te tijpen\n",
    "config = { # Dictionary met de opties en hun waardenn\n",
    "    'output_format': 'markdown',\n",
    "    'disable_image_extraction': True,\n",
    "}\n",
    "\n",
    "config_parser = ConfigParser(config) # Aanmaken van de configuratie-object"
   ]
  },
  {
   "cell_type": "code",
   "execution_count": 7,
   "id": "c88fa02c-8ece-4289-a30b-bbb1fc946f10",
   "metadata": {},
   "outputs": [
    {
     "name": "stdout",
     "output_type": "stream",
     "text": [
      "Loaded layout model s3://layout/2025_02_18 on device cpu with dtype torch.float32\n",
      "Loaded texify model s3://texify/2025_02_18 on device cpu with dtype torch.float32\n",
      "Loaded recognition model s3://text_recognition/2025_02_18 on device cpu with dtype torch.float32\n",
      "Loaded table recognition model s3://table_recognition/2025_02_18 on device cpu with dtype torch.float32\n",
      "Loaded detection model s3://text_detection/2025_02_28 on device cpu with dtype torch.float32\n",
      "Loaded detection model s3://inline_math_detection/2025_02_24 on device cpu with dtype torch.float32\n"
     ]
    }
   ],
   "source": [
    "# Aanmaken van de omzettingsobject. \n",
    "\n",
    "# Nota: soms kan hier een probleem ontstaan dat aangeeft dat een bepaalde\n",
    "# bestand al reeds bestaat. Dit is een teken dat conda geen Administrator\n",
    "# rechten heeft en kan opgelost worden door alles als Administator te runnen\n",
    "\n",
    "converter = PdfConverter(\n",
    "    artifact_dict=create_model_dict(),\n",
    "    config=config_parser.generate_config_dict(),\n",
    ")"
   ]
  },
  {
   "cell_type": "code",
   "execution_count": 8,
   "id": "32e5be38-7d7b-4828-b105-d943ccb21177",
   "metadata": {},
   "outputs": [],
   "source": [
    "def marker_save_markdown(e, path_to_markdowns):\n",
    "    rendered = converter(e.path)\n",
    "    save_output(rendered, path_to_markdowns, e.name[:-4])"
   ]
  },
  {
   "cell_type": "markdown",
   "id": "39814b30-6ec7-4a30-889e-030455d1d7d5",
   "metadata": {},
   "source": [
    "#### 3.1.1. Studiewijzers"
   ]
  },
  {
   "cell_type": "code",
   "execution_count": 9,
   "id": "b7d87a0b-4be1-4d7a-94ff-1c0354633417",
   "metadata": {},
   "outputs": [],
   "source": [
    "studiewijzers_markdowns_path = os.path.join(marker_markdowns_path, 'Studiewijzers/')"
   ]
  },
  {
   "cell_type": "code",
   "execution_count": 10,
   "id": "1d6e8b79-9b19-45bb-baae-6b25618d62b6",
   "metadata": {},
   "outputs": [
    {
     "name": "stderr",
     "output_type": "stream",
     "text": [
      "Recognizing layout: 100%|████████████████████████████████████████████████████████████████| 5/5 [01:19<00:00, 15.81s/it]\n",
      "Running OCR Error Detection: 100%|███████████████████████████████████████████████████████| 8/8 [00:08<00:00,  1.01s/it]\n",
      "Detecting bboxes: 0it [00:00, ?it/s]\n",
      "C:\\ProgramData\\anaconda3\\envs\\Bachelorproef\\Lib\\site-packages\\sklearn\\cluster\\_kmeans.py:1419: UserWarning: KMeans is known to have a memory leak on Windows with MKL, when there are less chunks than available threads. You can avoid it by setting the environment variable OMP_NUM_THREADS=1.\n",
      "  warnings.warn(\n",
      "Detecting bboxes: 100%|██████████████████████████████████████████████████████████████████| 1/1 [00:03<00:00,  3.24s/it]\n",
      "Recognizing Text: 100%|██████████████████████████████████████████████████████████████████| 1/1 [00:24<00:00, 24.70s/it]\n",
      "Recognizing tables: 100%|████████████████████████████████████████████████████████████████| 2/2 [00:15<00:00,  7.99s/it]\n",
      "Recognizing layout: 100%|████████████████████████████████████████████████████████████████| 3/3 [00:33<00:00, 11.08s/it]\n",
      "Running OCR Error Detection: 100%|███████████████████████████████████████████████████████| 4/4 [00:04<00:00,  1.03s/it]\n",
      "Detecting bboxes: 0it [00:00, ?it/s]\n",
      "C:\\ProgramData\\anaconda3\\envs\\Bachelorproef\\Lib\\site-packages\\sklearn\\cluster\\_kmeans.py:1419: UserWarning: KMeans is known to have a memory leak on Windows with MKL, when there are less chunks than available threads. You can avoid it by setting the environment variable OMP_NUM_THREADS=1.\n",
      "  warnings.warn(\n",
      "Detecting bboxes: 0it [00:00, ?it/s]\n",
      "Recognizing tables: 100%|████████████████████████████████████████████████████████████████| 1/1 [00:03<00:00,  3.21s/it]\n",
      "Recognizing layout: 100%|████████████████████████████████████████████████████████████████| 3/3 [00:30<00:00, 10.07s/it]\n",
      "Running OCR Error Detection: 100%|███████████████████████████████████████████████████████| 4/4 [00:03<00:00,  1.06it/s]\n",
      "Detecting bboxes: 0it [00:00, ?it/s]\n",
      "C:\\ProgramData\\anaconda3\\envs\\Bachelorproef\\Lib\\site-packages\\sklearn\\cluster\\_kmeans.py:1419: UserWarning: KMeans is known to have a memory leak on Windows with MKL, when there are less chunks than available threads. You can avoid it by setting the environment variable OMP_NUM_THREADS=1.\n",
      "  warnings.warn(\n",
      "Detecting bboxes: 0it [00:00, ?it/s]\n",
      "Recognizing tables: 100%|████████████████████████████████████████████████████████████████| 1/1 [00:05<00:00,  5.42s/it]\n"
     ]
    },
    {
     "name": "stdout",
     "output_type": "stream",
     "text": [
      "Studiewijzer_AI_Data_Science: 147.66392993927002s\n",
      "Studiewijzer_Infrastructure_Automation: 44.52555823326111s\n",
      "Studiewijzer_linux_for_Data_Scientists: 45.2026903629303s\n",
      "\n",
      "Total time taken: 237.39217853546143 s\n",
      "Average time taken: 79.13072617848714 s\n",
      "\n"
     ]
    }
   ],
   "source": [
    "chrono(studiewijzers_pdf_path, studiewijzers_markdowns_path, marker_save_markdown)"
   ]
  },
  {
   "cell_type": "markdown",
   "id": "172a3db3-1985-499e-bcb5-17b21abd4771",
   "metadata": {},
   "source": [
    "#### 3.1.2. Slides"
   ]
  },
  {
   "cell_type": "code",
   "execution_count": 12,
   "id": "85927846-228e-4cd5-9906-8261b7c845f9",
   "metadata": {},
   "outputs": [],
   "source": [
    "slides_markdowns_path = os.path.join(marker_markdowns_path, 'Slides/')"
   ]
  },
  {
   "cell_type": "code",
   "execution_count": 13,
   "id": "9e19928e-1d5b-4d39-9918-68da076e06f5",
   "metadata": {},
   "outputs": [
    {
     "name": "stderr",
     "output_type": "stream",
     "text": [
      "Recognizing layout: 100%|████████████████████████████████████████████████████████████████| 5/5 [00:55<00:00, 11.13s/it]\n",
      "Running OCR Error Detection: 100%|███████████████████████████████████████████████████████| 7/7 [00:02<00:00,  3.49it/s]\n",
      "Detecting bboxes: 0it [00:00, ?it/s]\n",
      "C:\\ProgramData\\anaconda3\\envs\\Bachelorproef\\Lib\\site-packages\\sklearn\\cluster\\_kmeans.py:1419: UserWarning: KMeans is known to have a memory leak on Windows with MKL, when there are less chunks than available threads. You can avoid it by setting the environment variable OMP_NUM_THREADS=1.\n",
      "  warnings.warn(\n",
      "Detecting bboxes: 0it [00:00, ?it/s]\n",
      "Recognizing layout: 100%|████████████████████████████████████████████████████████████████| 5/5 [01:02<00:00, 12.42s/it]\n",
      "Running OCR Error Detection: 100%|███████████████████████████████████████████████████████| 8/8 [00:01<00:00,  4.31it/s]\n",
      "Detecting bboxes: 0it [00:00, ?it/s]\n",
      "C:\\ProgramData\\anaconda3\\envs\\Bachelorproef\\Lib\\site-packages\\sklearn\\cluster\\_kmeans.py:1419: UserWarning: KMeans is known to have a memory leak on Windows with MKL, when there are less chunks than available threads. You can avoid it by setting the environment variable OMP_NUM_THREADS=1.\n",
      "  warnings.warn(\n",
      "Detecting bboxes: 0it [00:00, ?it/s]\n",
      "Recognizing tables: 100%|████████████████████████████████████████████████████████████████| 1/1 [00:10<00:00, 10.18s/it]\n",
      "Recognizing layout: 100%|████████████████████████████████████████████████████████████████| 7/7 [01:15<00:00, 10.82s/it]\n",
      "Running OCR Error Detection: 100%|█████████████████████████████████████████████████████| 10/10 [00:02<00:00,  3.57it/s]\n",
      "Detecting bboxes: 0it [00:00, ?it/s]\n",
      "Texify inference: 100%|██████████████████████████████████████████████████████████████████| 1/1 [00:03<00:00,  3.49s/it]\n",
      "C:\\ProgramData\\anaconda3\\envs\\Bachelorproef\\Lib\\site-packages\\sklearn\\cluster\\_kmeans.py:1419: UserWarning: KMeans is known to have a memory leak on Windows with MKL, when there are less chunks than available threads. You can avoid it by setting the environment variable OMP_NUM_THREADS=1.\n",
      "  warnings.warn(\n",
      "Detecting bboxes: 0it [00:00, ?it/s]\n",
      "Recognizing tables: 100%|████████████████████████████████████████████████████████████████| 1/1 [00:12<00:00, 12.86s/it]\n",
      "Recognizing layout: 100%|██████████████████████████████████████████████████████████████| 13/13 [02:35<00:00, 11.93s/it]\n",
      "Running OCR Error Detection: 100%|█████████████████████████████████████████████████████| 19/19 [00:07<00:00,  2.43it/s]\n",
      "Detecting bboxes: 0it [00:00, ?it/s]\n",
      "Texify inference: 100%|████████████████████████████████████████████████████████████████| 15/15 [02:19<00:00,  9.29s/it]\n",
      "C:\\ProgramData\\anaconda3\\envs\\Bachelorproef\\Lib\\site-packages\\sklearn\\cluster\\_kmeans.py:1419: UserWarning: KMeans is known to have a memory leak on Windows with MKL, when there are less chunks than available threads. You can avoid it by setting the environment variable OMP_NUM_THREADS=1.\n",
      "  warnings.warn(\n",
      "Detecting bboxes: 0it [00:00, ?it/s]\n",
      "Recognizing tables: 100%|████████████████████████████████████████████████████████████████| 1/1 [00:10<00:00, 10.49s/it]\n",
      "Recognizing layout: 100%|████████████████████████████████████████████████████████████████| 7/7 [01:17<00:00, 11.14s/it]\n",
      "Running OCR Error Detection: 100%|█████████████████████████████████████████████████████| 10/10 [00:02<00:00,  4.48it/s]\n",
      "Detecting bboxes: 0it [00:00, ?it/s]\n",
      "Texify inference: 100%|██████████████████████████████████████████████████████████████████| 7/7 [00:37<00:00,  5.30s/it]\n",
      "C:\\ProgramData\\anaconda3\\envs\\Bachelorproef\\Lib\\site-packages\\sklearn\\cluster\\_kmeans.py:1419: UserWarning: KMeans is known to have a memory leak on Windows with MKL, when there are less chunks than available threads. You can avoid it by setting the environment variable OMP_NUM_THREADS=1.\n",
      "  warnings.warn(\n",
      "Detecting bboxes: 0it [00:00, ?it/s]\n",
      "Recognizing tables: 100%|████████████████████████████████████████████████████████████████| 1/1 [00:04<00:00,  4.03s/it]\n",
      "Recognizing layout: 100%|████████████████████████████████████████████████████████████████| 8/8 [01:37<00:00, 12.13s/it]\n",
      "Running OCR Error Detection: 100%|█████████████████████████████████████████████████████| 12/12 [00:02<00:00,  5.11it/s]\n",
      "Detecting bboxes: 0it [00:00, ?it/s]\n",
      "Texify inference: 100%|██████████████████████████████████████████████████████████████████| 6/6 [00:22<00:00,  3.72s/it]\n",
      "C:\\ProgramData\\anaconda3\\envs\\Bachelorproef\\Lib\\site-packages\\sklearn\\cluster\\_kmeans.py:1419: UserWarning: KMeans is known to have a memory leak on Windows with MKL, when there are less chunks than available threads. You can avoid it by setting the environment variable OMP_NUM_THREADS=1.\n",
      "  warnings.warn(\n",
      "Detecting bboxes: 0it [00:00, ?it/s]\n",
      "Recognizing tables: 100%|████████████████████████████████████████████████████████████████| 2/2 [00:26<00:00, 13.45s/it]\n",
      "Recognizing layout: 100%|████████████████████████████████████████████████████████████████| 6/6 [01:04<00:00, 10.76s/it]\n",
      "Running OCR Error Detection: 100%|███████████████████████████████████████████████████████| 8/8 [00:02<00:00,  3.91it/s]\n",
      "Detecting bboxes: 0it [00:00, ?it/s]\n",
      "Texify inference: 100%|██████████████████████████████████████████████████████████████████| 2/2 [00:08<00:00,  4.07s/it]\n",
      "C:\\ProgramData\\anaconda3\\envs\\Bachelorproef\\Lib\\site-packages\\sklearn\\cluster\\_kmeans.py:1419: UserWarning: KMeans is known to have a memory leak on Windows with MKL, when there are less chunks than available threads. You can avoid it by setting the environment variable OMP_NUM_THREADS=1.\n",
      "  warnings.warn(\n",
      "Detecting bboxes: 100%|██████████████████████████████████████████████████████████████████| 1/1 [00:02<00:00,  2.12s/it]\n",
      "Recognizing Text: 100%|██████████████████████████████████████████████████████████████████| 1/1 [00:20<00:00, 20.60s/it]\n",
      "Recognizing tables: 100%|████████████████████████████████████████████████████████████████| 1/1 [00:09<00:00,  9.06s/it]\n",
      "Recognizing layout: 100%|████████████████████████████████████████████████████████████████| 5/5 [00:57<00:00, 11.42s/it]\n",
      "Running OCR Error Detection: 100%|███████████████████████████████████████████████████████| 7/7 [00:01<00:00,  5.17it/s]\n",
      "Detecting bboxes: 0it [00:00, ?it/s]\n",
      "Texify inference: 100%|██████████████████████████████████████████████████████████████████| 3/3 [00:58<00:00, 19.54s/it]\n",
      "C:\\ProgramData\\anaconda3\\envs\\Bachelorproef\\Lib\\site-packages\\sklearn\\cluster\\_kmeans.py:1419: UserWarning: KMeans is known to have a memory leak on Windows with MKL, when there are less chunks than available threads. You can avoid it by setting the environment variable OMP_NUM_THREADS=1.\n",
      "  warnings.warn(\n",
      "Detecting bboxes: 100%|██████████████████████████████████████████████████████████████████| 1/1 [00:04<00:00,  4.92s/it]\n",
      "Recognizing Text: 100%|██████████████████████████████████████████████████████████████████| 2/2 [01:10<00:00, 35.11s/it]\n",
      "Recognizing tables: 100%|████████████████████████████████████████████████████████████████| 1/1 [00:09<00:00,  9.75s/it]\n",
      "Recognizing layout: 100%|████████████████████████████████████████████████████████████████| 7/7 [01:20<00:00, 11.46s/it]\n",
      "Running OCR Error Detection: 100%|█████████████████████████████████████████████████████| 10/10 [00:02<00:00,  4.19it/s]\n",
      "Detecting bboxes: 0it [00:00, ?it/s]\n",
      "Texify inference: 100%|██████████████████████████████████████████████████████████████████| 7/7 [00:54<00:00,  7.82s/it]\n",
      "C:\\ProgramData\\anaconda3\\envs\\Bachelorproef\\Lib\\site-packages\\sklearn\\cluster\\_kmeans.py:1419: UserWarning: KMeans is known to have a memory leak on Windows with MKL, when there are less chunks than available threads. You can avoid it by setting the environment variable OMP_NUM_THREADS=1.\n",
      "  warnings.warn(\n",
      "Detecting bboxes: 0it [00:00, ?it/s]\n",
      "Recognizing tables: 100%|████████████████████████████████████████████████████████████████| 1/1 [00:01<00:00,  1.71s/it]\n"
     ]
    },
    {
     "name": "stdout",
     "output_type": "stream",
     "text": [
      "dsai-en-0-intro: 59.582258224487305s\n",
      "dsai-en-1-sampling: 76.04399728775024s\n",
      "dsai-en-2-univariate: 99.138028383255s\n",
      "dsai-en-3a-central-limit-theorem: 318.20600867271423s\n",
      "dsai-en-3b-hypothesis-testing: 124.24505090713501s\n",
      "dsai-en-4-bivariate-qual-qual: 152.80231857299805s\n",
      "dsai-en-5-bivariate-qual-quant: 108.76130723953247s\n",
      "dsai-en-6-bivariate-quant-quant: 204.01630187034607s\n",
      "dsai-en-7-timeseries: 141.74169158935547s\n",
      "\n",
      "Total time taken: 1284.5369627475739 s\n",
      "Average time taken: 142.72632919417487 s\n",
      "\n"
     ]
    }
   ],
   "source": [
    "chrono(slides_pdf_path, slides_markdowns_path, marker_save_markdown)"
   ]
  },
  {
   "cell_type": "markdown",
   "id": "708a5a3e-5843-40e0-8d21-39d7db846878",
   "metadata": {},
   "source": [
    "#### 3.1.3. Bijzondere slides"
   ]
  },
  {
   "cell_type": "code",
   "execution_count": 16,
   "id": "bc56108b-89d1-45f5-892c-beda913b56e0",
   "metadata": {},
   "outputs": [],
   "source": [
    "special_slides_markdowns_path = os.path.join(marker_markdowns_path, 'Bijzondere_slides/')"
   ]
  },
  {
   "cell_type": "code",
   "execution_count": 17,
   "id": "b732925b-a157-4aaa-ac29-263c0e31e273",
   "metadata": {},
   "outputs": [
    {
     "name": "stderr",
     "output_type": "stream",
     "text": [
      "Recognizing layout: 100%|████████████████████████████████████████████████████████████████| 5/5 [00:52<00:00, 10.51s/it]\n",
      "Running OCR Error Detection: 100%|███████████████████████████████████████████████████████| 7/7 [00:04<00:00,  1.56it/s]\n",
      "Detecting bboxes: 0it [00:00, ?it/s]\n",
      "C:\\ProgramData\\anaconda3\\envs\\Bachelorproef\\Lib\\site-packages\\sklearn\\cluster\\_kmeans.py:1419: UserWarning: KMeans is known to have a memory leak on Windows with MKL, when there are less chunks than available threads. You can avoid it by setting the environment variable OMP_NUM_THREADS=1.\n",
      "  warnings.warn(\n",
      "Detecting bboxes: 100%|██████████████████████████████████████████████████████████████████| 1/1 [00:03<00:00,  3.09s/it]\n",
      "Recognizing Text: 100%|██████████████████████████████████████████████████████████████████| 2/2 [01:06<00:00, 33.37s/it]\n",
      "Recognizing tables: 100%|████████████████████████████████████████████████████████████████| 1/1 [00:02<00:00,  2.17s/it]\n",
      "Recognizing layout: 100%|████████████████████████████████████████████████████████████████| 6/6 [01:05<00:00, 10.95s/it]\n",
      "Running OCR Error Detection: 100%|███████████████████████████████████████████████████████| 8/8 [00:05<00:00,  1.49it/s]\n",
      "Detecting bboxes: 0it [00:00, ?it/s]\n",
      "C:\\ProgramData\\anaconda3\\envs\\Bachelorproef\\Lib\\site-packages\\sklearn\\cluster\\_kmeans.py:1419: UserWarning: KMeans is known to have a memory leak on Windows with MKL, when there are less chunks than available threads. You can avoid it by setting the environment variable OMP_NUM_THREADS=1.\n",
      "  warnings.warn(\n",
      "Detecting bboxes: 0it [00:00, ?it/s]\n",
      "Recognizing layout: 100%|████████████████████████████████████████████████████████████████| 6/6 [01:08<00:00, 11.45s/it]\n",
      "Running OCR Error Detection: 100%|███████████████████████████████████████████████████████| 9/9 [00:02<00:00,  3.64it/s]\n",
      "Detecting bboxes: 0it [00:00, ?it/s]\n",
      "C:\\ProgramData\\anaconda3\\envs\\Bachelorproef\\Lib\\site-packages\\sklearn\\cluster\\_kmeans.py:1419: UserWarning: KMeans is known to have a memory leak on Windows with MKL, when there are less chunks than available threads. You can avoid it by setting the environment variable OMP_NUM_THREADS=1.\n",
      "  warnings.warn(\n",
      "Detecting bboxes: 0it [00:00, ?it/s]\n",
      "Recognizing layout: 100%|████████████████████████████████████████████████████████████████| 5/5 [00:59<00:00, 11.91s/it]\n",
      "Running OCR Error Detection: 100%|███████████████████████████████████████████████████████| 8/8 [00:03<00:00,  2.60it/s]\n",
      "Detecting bboxes: 0it [00:00, ?it/s]\n",
      "C:\\ProgramData\\anaconda3\\envs\\Bachelorproef\\Lib\\site-packages\\sklearn\\cluster\\_kmeans.py:1419: UserWarning: KMeans is known to have a memory leak on Windows with MKL, when there are less chunks than available threads. You can avoid it by setting the environment variable OMP_NUM_THREADS=1.\n",
      "  warnings.warn(\n",
      "Detecting bboxes: 100%|██████████████████████████████████████████████████████████████████| 1/1 [00:05<00:00,  5.19s/it]\n",
      "Recognizing Text: 100%|██████████████████████████████████████████████████████████████████| 7/7 [05:19<00:00, 45.65s/it]\n",
      "Recognizing tables: 100%|████████████████████████████████████████████████████████████████| 1/1 [00:06<00:00,  6.23s/it]\n",
      "Recognizing layout: 100%|████████████████████████████████████████████████████████████████| 7/7 [01:21<00:00, 11.69s/it]\n",
      "Running OCR Error Detection: 100%|█████████████████████████████████████████████████████| 10/10 [00:03<00:00,  2.79it/s]\n",
      "Detecting bboxes: 0it [00:00, ?it/s]\n",
      "C:\\ProgramData\\anaconda3\\envs\\Bachelorproef\\Lib\\site-packages\\sklearn\\cluster\\_kmeans.py:1419: UserWarning: KMeans is known to have a memory leak on Windows with MKL, when there are less chunks than available threads. You can avoid it by setting the environment variable OMP_NUM_THREADS=1.\n",
      "  warnings.warn(\n",
      "Detecting bboxes: 0it [00:00, ?it/s]\n"
     ]
    },
    {
     "name": "stdout",
     "output_type": "stream",
     "text": [
      "1. Continuous Integration_ Deployment with Jenkins: 132.40918135643005s\n",
      "2. Configuration Management with Ansible: 75.54081463813782s\n",
      "3. Container orchestration with Kubernetes: 75.29476118087769s\n",
      "4. Monitoring with Prometheus: 397.08021068573s\n",
      "Infrastructure Automation_ inleiding: 89.35674405097961s\n",
      "\n",
      "Total time taken: 769.6817119121552 s\n",
      "Average time taken: 153.93634238243104 s\n",
      "\n"
     ]
    }
   ],
   "source": [
    "chrono(special_slides_pdf_path, special_slides_markdowns_path, marker_save_markdown)"
   ]
  },
  {
   "cell_type": "markdown",
   "id": "2ee66ea9-5eb9-47bb-b322-5be5dade3a42",
   "metadata": {},
   "source": [
    "#### 3.1.4. Syllabus"
   ]
  },
  {
   "cell_type": "code",
   "execution_count": 18,
   "id": "a569c8ac-3713-4dbe-b261-998b62753533",
   "metadata": {},
   "outputs": [],
   "source": [
    "syllabus_markdowns_path = os.path.join(marker_markdowns_path, 'Syllabus/')"
   ]
  },
  {
   "cell_type": "code",
   "execution_count": 19,
   "id": "1d1c9f1b-b50e-40ae-8ec8-1493cb668ebb",
   "metadata": {},
   "outputs": [
    {
     "name": "stderr",
     "output_type": "stream",
     "text": [
      "Recognizing layout: 100%|██████████████████████████████████████████████████████████████| 50/50 [11:04<00:00, 13.29s/it]\n",
      "Running OCR Error Detection: 100%|█████████████████████████████████████████████████████| 75/75 [01:22<00:00,  1.10s/it]\n",
      "Detecting bboxes: 0it [00:00, ?it/s]\n",
      "C:\\ProgramData\\anaconda3\\envs\\Bachelorproef\\Lib\\site-packages\\sklearn\\cluster\\_kmeans.py:1419: UserWarning: KMeans is known to have a memory leak on Windows with MKL, when there are less chunks than available threads. You can avoid it by setting the environment variable OMP_NUM_THREADS=3.\n",
      "  warnings.warn(\n",
      "Detecting bboxes: 100%|██████████████████████████████████████████████████████████████████| 4/4 [00:37<00:00,  9.34s/it]\n",
      "Recognizing Text: 100%|██████████████████████████████████████████████████████████████████| 9/9 [06:54<00:00, 46.05s/it]\n",
      "Recognizing tables: 100%|██████████████████████████████████████████████████████████████| 14/14 [03:10<00:00, 13.61s/it]\n"
     ]
    },
    {
     "name": "stdout",
     "output_type": "stream",
     "text": [
      "datalinux: 1457.6885430812836s\n",
      "\n",
      "Total time taken: 1457.6885430812836 s\n",
      "Average time taken: 1457.6885430812836 s\n",
      "\n"
     ]
    }
   ],
   "source": [
    "chrono(syllabus_pdf_path, syllabus_markdowns_path, marker_save_markdown)"
   ]
  },
  {
   "cell_type": "markdown",
   "id": "82c6673f-998d-4df0-b777-1e738f83777d",
   "metadata": {},
   "source": [
    "### 3.2. PyMuPDF4LLM"
   ]
  },
  {
   "cell_type": "code",
   "execution_count": 20,
   "id": "ff8f722d-b3fe-4c53-9054-7360379970c4",
   "metadata": {},
   "outputs": [],
   "source": [
    "pymupdf4llm_markdowns_path = os.path.join(markdowns_path, 'PyMuPDF4LLM/')"
   ]
  },
  {
   "cell_type": "code",
   "execution_count": 21,
   "id": "506c1bd1-88de-4d22-a916-4ccd1a2dfcb5",
   "metadata": {},
   "outputs": [],
   "source": [
    "def pymupdf4llm_save_markdown(e, path_to_markdowns):\n",
    "    md =  pymupdf4llm.to_markdown(e.path, write_images = False, show_progress = True)\n",
    "    filename = f'{e.name[:-4]}.md'\n",
    "    pathlib.Path(os.path.join(path_to_markdowns, filename)).write_bytes(md.encode())"
   ]
  },
  {
   "cell_type": "markdown",
   "id": "4a9968ba-2b0f-4c76-9daa-e92d2f2276b5",
   "metadata": {},
   "source": [
    "#### 3.2.1. Studiewijzers"
   ]
  },
  {
   "cell_type": "code",
   "execution_count": 22,
   "id": "3376b97d-0ea9-41bb-af6f-fd3a968f3252",
   "metadata": {},
   "outputs": [],
   "source": [
    "studiewijzers_markdowns_path = os.path.join(pymupdf4llm_markdowns_path, 'Studiewijzers/')"
   ]
  },
  {
   "cell_type": "code",
   "execution_count": 23,
   "id": "56f69f08-bf0c-4bfb-b1aa-72286171b1e2",
   "metadata": {},
   "outputs": [
    {
     "name": "stdout",
     "output_type": "stream",
     "text": [
      "Processing ./pdfs/Studiewijzers/Studiewijzer_AI_Data_Science.pdf...\n",
      "]========================================] (30/30)\n",
      "Processing ./pdfs/Studiewijzers/Studiewijzer_Infrastructure_Automation.pdf...\n",
      "]========================================] (15/15)\n",
      "Processing ./pdfs/Studiewijzers/Studiewijzer_linux_for_Data_Scientists.pdf...\n",
      "]========================================] (14/14)\n",
      "Studiewijzer_AI_Data_Science: 7.71200704574585s\n",
      "Studiewijzer_Infrastructure_Automation: 3.1662962436676025s\n",
      "Studiewijzer_linux_for_Data_Scientists: 4.027928352355957s\n",
      "\n",
      "Total time taken: 14.90623164176941 s\n",
      "Average time taken: 4.968743880589803 s\n",
      "\n"
     ]
    }
   ],
   "source": [
    "chrono(studiewijzers_pdf_path, studiewijzers_markdowns_path, pymupdf4llm_save_markdown)"
   ]
  },
  {
   "cell_type": "markdown",
   "id": "5990edfb-ba88-43a0-82ff-9d4b2d9ee7e2",
   "metadata": {},
   "source": [
    "#### 3.2.2. Slides"
   ]
  },
  {
   "cell_type": "code",
   "execution_count": 24,
   "id": "67c1ffbe-5a77-41da-9909-580f2fef504e",
   "metadata": {},
   "outputs": [],
   "source": [
    "slides_markdowns_path = os.path.join(pymupdf4llm_markdowns_path, 'Slides/')"
   ]
  },
  {
   "cell_type": "code",
   "execution_count": 25,
   "id": "63b5bb72-254f-4864-a791-2a48626a7a55",
   "metadata": {},
   "outputs": [
    {
     "name": "stdout",
     "output_type": "stream",
     "text": [
      "Processing ./pdfs/Slides/dsai-en-0-intro.pdf...\n",
      "]========================================] (27/27)\n",
      "Processing ./pdfs/Slides/dsai-en-1-sampling.pdf...\n",
      "]========================================] (30/30)\n",
      "Processing ./pdfs/Slides/dsai-en-2-univariate.pdf...\n",
      "]========================================] (37/37)\n",
      "Processing ./pdfs/Slides/dsai-en-3a-central-limit-theorem.pdf...\n",
      "]========================================] (75/75)\n",
      "Processing ./pdfs/Slides/dsai-en-3b-hypothesis-testing.pdf...\n",
      "]========================================] (38/38)\n",
      "Processing ./pdfs/Slides/dsai-en-4-bivariate-qual-qual.pdf...\n",
      "]========================================] (46/46)\n",
      "Processing ./pdfs/Slides/dsai-en-5-bivariate-qual-quant.pdf...\n",
      "]========================================] (31/31)\n",
      "Processing ./pdfs/Slides/dsai-en-6-bivariate-quant-quant.pdf...\n",
      "]========================================] (28/28)\n",
      "Processing ./pdfs/Slides/dsai-en-7-timeseries.pdf...\n",
      "]========================================] (39/39)\n",
      "dsai-en-0-intro: 0.5179338455200195s\n",
      "dsai-en-1-sampling: 0.5266659259796143s\n",
      "dsai-en-2-univariate: 1.129709243774414s\n",
      "dsai-en-3a-central-limit-theorem: 1.8832502365112305s\n",
      "dsai-en-3b-hypothesis-testing: 0.7061746120452881s\n",
      "dsai-en-4-bivariate-qual-qual: 0.794929027557373s\n",
      "dsai-en-5-bivariate-qual-quant: 0.5128331184387207s\n",
      "dsai-en-6-bivariate-quant-quant: 0.4914710521697998s\n",
      "dsai-en-7-timeseries: 0.5807373523712158s\n",
      "\n",
      "Total time taken: 7.143704414367676 s\n",
      "Average time taken: 0.7937449349297417 s\n",
      "\n"
     ]
    }
   ],
   "source": [
    "chrono(slides_pdf_path, slides_markdowns_path , pymupdf4llm_save_markdown)"
   ]
  },
  {
   "cell_type": "markdown",
   "id": "a96756a7-1bf0-4041-b117-4c8dbd86a466",
   "metadata": {},
   "source": [
    "#### 3.2.3. Bijzondere slides"
   ]
  },
  {
   "cell_type": "code",
   "execution_count": 26,
   "id": "834970b9-5a81-4347-9b70-d5326b9bf306",
   "metadata": {},
   "outputs": [],
   "source": [
    "special_slides_markdowns_path = os.path.join(pymupdf4llm_markdowns_path, 'Bijzondere_slides/')"
   ]
  },
  {
   "cell_type": "code",
   "execution_count": 27,
   "id": "07378b6d-cda8-4301-8df2-18bb435b271f",
   "metadata": {},
   "outputs": [
    {
     "name": "stdout",
     "output_type": "stream",
     "text": [
      "Processing ./pdfs/Bijzondere_slides/1. Continuous Integration_ Deployment with Jenkins.pdf...\n",
      "]========================================] (26/26)\n",
      "Processing ./pdfs/Bijzondere_slides/2. Configuration Management with Ansible.pdf...\n",
      "]========================================] (32/32)\n",
      "Processing ./pdfs/Bijzondere_slides/3. Container orchestration with Kubernetes.pdf...\n",
      "]========================================] (33/33)\n",
      "Processing ./pdfs/Bijzondere_slides/4. Monitoring with Prometheus.pdf...\n",
      "]========================================] (29/29)\n",
      "Processing ./pdfs/Bijzondere_slides/Infrastructure Automation_ inleiding.pdf...\n",
      "]========================================] (40/40)\n",
      "1. Continuous Integration_ Deployment with Jenkins: 0.4896726608276367s\n",
      "2. Configuration Management with Ansible: 0.5166478157043457s\n",
      "3. Container orchestration with Kubernetes: 0.716853141784668s\n",
      "4. Monitoring with Prometheus: 0.4909341335296631s\n",
      "Infrastructure Automation_ inleiding: 0.810161828994751s\n",
      "\n",
      "Total time taken: 3.0242695808410645 s\n",
      "Average time taken: 0.6048539161682129 s\n",
      "\n"
     ]
    }
   ],
   "source": [
    "chrono(special_slides_pdf_path, special_slides_markdowns_path , pymupdf4llm_save_markdown)"
   ]
  },
  {
   "cell_type": "markdown",
   "id": "22f285b4-b354-4e65-9ab6-96517d2d5a9e",
   "metadata": {},
   "source": [
    "#### 3.2.4. Syllabus"
   ]
  },
  {
   "cell_type": "code",
   "execution_count": 28,
   "id": "9fba211e-c993-40f8-b8ac-bde961ceeeaa",
   "metadata": {},
   "outputs": [],
   "source": [
    "syllabus_markdowns_path = os.path.join(pymupdf4llm_markdowns_path, 'Syllabus/')"
   ]
  },
  {
   "cell_type": "code",
   "execution_count": 29,
   "id": "46af142b-bbae-4c8f-8c53-88ce8462862f",
   "metadata": {},
   "outputs": [
    {
     "name": "stdout",
     "output_type": "stream",
     "text": [
      "Processing ./pdfs/Syllabus/datalinux.pdf...\n",
      "]========================================] (300/300)\n",
      "datalinux: 16.896792888641357s\n",
      "\n",
      "Total time taken: 16.896792888641357 s\n",
      "Average time taken: 16.896792888641357 s\n",
      "\n"
     ]
    }
   ],
   "source": [
    "chrono(syllabus_pdf_path, syllabus_markdowns_path , pymupdf4llm_save_markdown)"
   ]
  },
  {
   "cell_type": "markdown",
   "id": "70b39c10-70e7-4649-a83d-1a7e4b5a6404",
   "metadata": {},
   "source": [
    "### 3.3. Docling"
   ]
  },
  {
   "cell_type": "code",
   "execution_count": 34,
   "id": "9615f985-a2b8-411b-82e5-75112b41bce7",
   "metadata": {},
   "outputs": [],
   "source": [
    "docling_markdowns_path = os.path.join(markdowns_path, 'Docling/')"
   ]
  },
  {
   "cell_type": "code",
   "execution_count": 35,
   "id": "a236ba93-91f8-43e3-aa3c-16b285e107fd",
   "metadata": {},
   "outputs": [],
   "source": [
    "def docling_save_markdown(e, path_to_markdowns):\n",
    "    converter = DocumentConverter()\n",
    "    md =  converter.convert(e.path)\n",
    "    md.document.save_as_markdown(f'{os.path.join(path_to_markdowns, e.name[:-4])}.md', image_placeholder='')"
   ]
  },
  {
   "cell_type": "markdown",
   "id": "2e60338c-853b-4a1b-8be1-1bf23b242468",
   "metadata": {},
   "source": [
    "#### 3.3.1. Studiewijzers"
   ]
  },
  {
   "cell_type": "code",
   "execution_count": 36,
   "id": "c8f79123-ea86-4979-98fa-19a228d56e05",
   "metadata": {},
   "outputs": [],
   "source": [
    "studiewijzers_markdowns_path = os.path.join(docling_markdowns_path, 'Studiewijzers/')"
   ]
  },
  {
   "cell_type": "code",
   "execution_count": 37,
   "id": "1f7a8a83-7084-4bbd-a7b0-55ceb9193d52",
   "metadata": {},
   "outputs": [
    {
     "name": "stdout",
     "output_type": "stream",
     "text": [
      "Studiewijzer_AI_Data_Science: 95.69085454940796s\n",
      "Studiewijzer_Infrastructure_Automation: 49.91907000541687s\n",
      "Studiewijzer_linux_for_Data_Scientists: 43.21861004829407s\n",
      "\n",
      "Total time taken: 188.8285346031189 s\n",
      "Average time taken: 62.9428448677063 s\n",
      "\n"
     ]
    }
   ],
   "source": [
    "chrono(studiewijzers_pdf_path, studiewijzers_markdowns_path, docling_save_markdown)"
   ]
  },
  {
   "cell_type": "markdown",
   "id": "cd4c93fb-46d4-4893-bf75-9977b3d7987a",
   "metadata": {},
   "source": [
    "#### 3.3.2. Slides"
   ]
  },
  {
   "cell_type": "code",
   "execution_count": 38,
   "id": "1decc83c-1e99-49d2-ab9b-f01c0b7d2cb1",
   "metadata": {},
   "outputs": [],
   "source": [
    "slides_markdowns_path = os.path.join(docling_markdowns_path, 'Slides/')"
   ]
  },
  {
   "cell_type": "code",
   "execution_count": 39,
   "id": "fb396a08-663e-4c05-abbd-a056f77a0402",
   "metadata": {},
   "outputs": [
    {
     "name": "stdout",
     "output_type": "stream",
     "text": [
      "dsai-en-0-intro: 50.02930521965027s\n",
      "dsai-en-1-sampling: 66.7761583328247s\n",
      "dsai-en-2-univariate: 73.77223348617554s\n",
      "dsai-en-3a-central-limit-theorem: 135.45645141601562s\n",
      "dsai-en-3b-hypothesis-testing: 67.05923223495483s\n",
      "dsai-en-4-bivariate-qual-qual: 102.2901918888092s\n",
      "dsai-en-5-bivariate-qual-quant: 64.01545023918152s\n",
      "dsai-en-6-bivariate-quant-quant: 57.748496294021606s\n",
      "dsai-en-7-timeseries: 68.35293292999268s\n",
      "\n",
      "Total time taken: 685.500452041626 s\n",
      "Average time taken: 76.16671689351399 s\n",
      "\n"
     ]
    }
   ],
   "source": [
    "chrono(slides_pdf_path, slides_markdowns_path, docling_save_markdown)"
   ]
  },
  {
   "cell_type": "markdown",
   "id": "89fe4a43-c762-4771-94de-4be10d724f2d",
   "metadata": {},
   "source": [
    "#### 3.3.3. Bijzondere slides"
   ]
  },
  {
   "cell_type": "code",
   "execution_count": 40,
   "id": "b0e1113e-19e5-4799-8443-d0898851416c",
   "metadata": {},
   "outputs": [],
   "source": [
    "special_slides_markdowns_path = os.path.join(docling_markdowns_path, 'Bijzondere_slides/')"
   ]
  },
  {
   "cell_type": "code",
   "execution_count": 41,
   "id": "cf30df2e-f9c0-4c24-91ae-5d1f922a9a82",
   "metadata": {},
   "outputs": [
    {
     "name": "stdout",
     "output_type": "stream",
     "text": [
      "1. Continuous Integration_ Deployment with Jenkins: 70.95459246635437s\n",
      "2. Configuration Management with Ansible: 71.51973104476929s\n",
      "3. Container orchestration with Kubernetes: 64.15011310577393s\n",
      "4. Monitoring with Prometheus: 127.50278973579407s\n",
      "Infrastructure Automation_ inleiding: 112.22828364372253s\n",
      "\n",
      "Total time taken: 446.3555099964142 s\n",
      "Average time taken: 89.27110199928283 s\n",
      "\n"
     ]
    }
   ],
   "source": [
    "chrono(special_slides_pdf_path, special_slides_markdowns_path, docling_save_markdown)"
   ]
  },
  {
   "cell_type": "markdown",
   "id": "478f7bd3-174f-4315-90e9-8492cd7f2691",
   "metadata": {},
   "source": [
    "#### 3.3.4. Syllabus"
   ]
  },
  {
   "cell_type": "code",
   "execution_count": 42,
   "id": "b017996e-5f78-460e-bb03-1c51aca964b9",
   "metadata": {},
   "outputs": [],
   "source": [
    "syllabus_markdowns_path = os.path.join(docling_markdowns_path, 'Syllabus/')"
   ]
  },
  {
   "cell_type": "code",
   "execution_count": 43,
   "id": "07ce92ac-816b-4802-a6c6-74ee8eb08ec4",
   "metadata": {},
   "outputs": [
    {
     "name": "stdout",
     "output_type": "stream",
     "text": [
      "datalinux: 837.9995594024658s\n",
      "\n",
      "Total time taken: 837.9995594024658 s\n",
      "Average time taken: 837.9995594024658 s\n",
      "\n"
     ]
    }
   ],
   "source": [
    "chrono(syllabus_pdf_path, syllabus_markdowns_path, docling_save_markdown)"
   ]
  },
  {
   "cell_type": "markdown",
   "id": "00e2f534-b37c-4555-aa98-b1080f60d51d",
   "metadata": {},
   "source": [
    "## 4. Besluit"
   ]
  },
  {
   "cell_type": "markdown",
   "id": "b9ae48b1-04f6-4d67-9c4f-ce8ccb0c6018",
   "metadata": {},
   "source": [
    "> **Opgelet**: De cijfers die hier besproken worden, zijn geldig op 20 april 2025. We kunnen hun nauwkeurigheid na deze datum niet garanderen.\n",
    "\n",
    "Wat meteen opvalt, is de snelheid waarmee PyMuPDF4LLM de omzettingen uitvoert. De verwerkingstijden zijn indrukwekkend:\n",
    "\n",
    "- Gemiddeld 5 seconden per studiewijzer\n",
    "- Gemiddeld 0,8 seconden per slides\n",
    "- Gemiddeld 0,6 seconden per bijzondere slides\n",
    "- Gemiddeld 17 seconden voor de syllabus van \n",
    "\n",
    "Geen van de andere tools komt zelfs in de buurt van deze snelheid. Helaas, is de kwaliteit van de gegenereerde Markdown niet overtuigend. PyMuPDF4LLM slaagt er niet in om de structuur van het oorspronkelijke PDF-bestand betrouwbaar te reconstrueren. Bovendien, neemt de tool tekstregels letterlijk over zoals ze in het PDF-bestand voorkomen, zonder rekening te houden met zinnen die door een pagina- of regelovergang onderbroken zijn. Daardoor wordt de natuurlijke opbouw van de tekst soms verstoord, wat een negatieve impact kan hebben op de leesbaarheid en interpretatie door een LLM.\n",
    "\n",
    "Wat PyMuPDF4LLM wel goed doet is het begrijpen van wiskundige symbolen. Voor de slides van het vak AI & Data Science, hebben we geen verkeerde mathematische symbolen opgemerkt in de gegenereerde Markdown. Alles lijkt correct overgenomen te zijn. Ondanks dit, verkiezen we toch niet voor PyMuPDF4LLM omdat structuur veel zwaarder weegt dan mathematische symbolen voor dit toepassing.\n",
    "\n",
    "Marker en Docling zijn beide geavanceerdere tools dan PyMuPDF4LLM en maken bij de omzetting gebruik van meer verfijnde technieken.\n",
    "Als we kijken naar de gemiddelde omzettingstijden, blijkt dat Docling sneller is dan Marker.\n",
    "Voor de omzetting van de syllabus van Linux for Data Scientists is Docling maar liefst 620 seconden sneller dan Marker — dat is meer dan 10 minuten verschil, wat een aanzienlijk tijdsvoordeel oplevert.\n",
    "\n",
    "|                  | Marker | Docling |\n",
    "|------------------|--------|---------|\n",
    "| Studiewijzers    | 79s    | 63s     |\n",
    "| Slides           | 143s   | 76s     |\n",
    "| Bijzonder slides | 153s   | 89s     |\n",
    "| Syllabus         | 1457s  | 837s    |\n",
    "\n",
    "Het probleem van Docling ligt bij de gegenereerde Markdown. Docling is niet altijd in staat om de gehele inhoud te extraheren. Dit deed zich voor bij de slides van het vak AI & Data Science over de centrale limietstelling (zie resulterende Markdown [hier](./markdowns/Docling/Slides/dsai-en-3a-central-limit-theorem.md))\n",
    "\n",
    "Hoevel Marker trager is, hebben we dergelijke probleem niet ondervonden. Bovendien, slaagt Marker om de structuur van de originele PDF's maximaal te behouden. Daarom verkiezen we Marker boven de andere tools."
   ]
  }
 ],
 "metadata": {
  "kernelspec": {
   "display_name": "Python 3 (ipykernel)",
   "language": "python",
   "name": "python3"
  },
  "language_info": {
   "codemirror_mode": {
    "name": "ipython",
    "version": 3
   },
   "file_extension": ".py",
   "mimetype": "text/x-python",
   "name": "python",
   "nbconvert_exporter": "python",
   "pygments_lexer": "ipython3",
   "version": "3.12.9"
  }
 },
 "nbformat": 4,
 "nbformat_minor": 5
}
