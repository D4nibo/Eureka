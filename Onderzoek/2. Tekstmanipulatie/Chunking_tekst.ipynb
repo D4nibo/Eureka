{
 "cells": [
  {
   "cell_type": "code",
   "execution_count": 1,
   "id": "ed6a3d2c-adc0-4465-8361-f7fb6cc43bbb",
   "metadata": {},
   "outputs": [],
   "source": [
    "from langchain_text_splitters import CharacterTextSplitter\n",
    "from langchain_text_splitters import RecursiveCharacterTextSplitter\n",
    "from langchain_experimental.text_splitter import SemanticChunker\n",
    "from langchain_huggingface import HuggingFaceEmbeddings"
   ]
  },
  {
   "cell_type": "markdown",
   "id": "26c8eaca-2963-47bb-9b71-9a311b2519f7",
   "metadata": {},
   "source": [
    "# Chunking van tekst"
   ]
  },
  {
   "cell_type": "markdown",
   "id": "d317fdbd-79b9-4410-bfc8-7980a087f41f",
   "metadata": {},
   "source": [
    "## 1. Doelstellingen "
   ]
  },
  {
   "cell_type": "markdown",
   "id": "4fa4d7fd-6298-4787-b084-4fcf02087910",
   "metadata": {},
   "source": [
    "RAG komt erop neer dat een LLM wordt gevoed met extra context die relevant is voor een specifieke vraag, zodat het model beter in staat is om die vraag te beantwoorden. Die context kan echter niet onbeperkt groot zijn, om drie belangrijke redenen:\n",
    "\n",
    "1. De meeste LLM’s hanteren een limiet op de grootte van de invoer die ze kunnen verwerken. Dit betekent dat zowel de vraag als de bijhorende context binnen een vast contextvenster moeten passen.\n",
    "2. LLM’s zijn gevoelig voor het lost in the middle-fenomeen: ze besteden meer aandacht aan het begin en het einde van de invoer, en minder aan het minder van de invoer.\n",
    "3. Het opslaan van context is een resource-intensief proces: hoe langer de context die moet worden opgeslagen, hoe meer tijd en middelen dit in beslag neemt.\n",
    "\n",
    "Voor deze redenen is het nodig om de tekst afkomstig uit de PDF-bestanden te verdelen in *chunks* (= brokken). [Langchain](https://python.langchain.com/docs/introduction/) biedt zogenaamde *Text splitters* aan, die (platte) tekst opdelen in chunks volgens bepaalde strategieën. In dit Notebook bekijken we hoe bepaalde van deze splitters precies werken."
   ]
  },
  {
   "cell_type": "markdown",
   "id": "7e7bdeae-7414-429c-b70d-4274dbc0276b",
   "metadata": {},
   "source": [
    "## 2. Methodologie "
   ]
  },
  {
   "cell_type": "markdown",
   "id": "668b14f8-e5c9-424c-bad0-f208cb0858e5",
   "metadata": {},
   "source": [
    "We zullen een korte tekst van 559 tekens, bestaande uit twee paragrafen, door de volgende drie tekstsplitters laten verwerken:\n",
    "\n",
    "1. `CharacterTextSplitter`: Deze splitter verdeelt de tekst in chunks op basis van een vooraf bepaalde chunkgrootte, zonder rekening te houden met de inhoud of structuur van de tekst.\n",
    "\n",
    "2. `RecursiveCharacterTextSplitter`: Deze splitter hanteert een hiërarchische aanpak waarbij tekst wordt gesplitst volgens een voorkeursvolgorde van scheidingstekens. Er wordt pas naar het volgende niveau overgegaan als de chunk nog steeds groter is dan de opgegeven limiet. De volgorde is doorgaans: paragrafen (dubbele regeleinden (\\n\\n)), zinnen (enkele regeleinden (\\n)), woorden (spaties (\" \")) en uiteindelijk individuele tekens.\n",
    "\n",
    "3. `SemanticChunker`: Deze splitter maakt gebruik van een embeddingmodel. Elke individuele zin wordt ge-embed als een vector. Zinnen die inhoudelijk sterk op elkaar lijken — met andere woorden waarvan de vectorrepresentaties dicht bij elkaar liggen — worden gegroepeerd. Deze groepen vormen de uiteindelijke chunks.\n",
    "\n",
    "Vervolgens bekijken we de gegenereerde chunks en bespreken we onze waarnemingen in de besluit"
   ]
  },
  {
   "cell_type": "markdown",
   "id": "38f325ba-b623-443e-b37d-5e86a147b8bd",
   "metadata": {},
   "source": [
    "## 3. Uittesten"
   ]
  },
  {
   "cell_type": "code",
   "execution_count": 2,
   "id": "6793573a-1272-4de1-9ad2-5d7b8472d58e",
   "metadata": {},
   "outputs": [],
   "source": [
    "txt = \"\"\"Cloud computing maakt het mogelijk om rekenkracht en opslag via het internet te gebruiken zonder dat gebruikers lokale servers hoeven te beheren. Dit biedt schaalbaarheid, flexibiliteit en kostenbesparing, vooral voor bedrijven die snel willen groeien of wereldwijd actief zijn.\n",
    "\n",
    "Virtualisatie stelt een enkele fysieke computer in staat om meerdere virtuele machines tegelijk te draaien. Elke virtuele machine functioneert als een aparte computer met zijn eigen besturingssysteem. Dit verhoogt de efficiëntie en maakt een betere benutting van hardware mogelijk.\"\"\""
   ]
  },
  {
   "cell_type": "code",
   "execution_count": 3,
   "id": "1732d74d-445b-4460-a16b-5d2b30f659bb",
   "metadata": {},
   "outputs": [],
   "source": [
    "# Definiëren van de parameters van de text splitters\n",
    "\n",
    "chunk_size = 300\n",
    "chunk_overlap = 0\n",
    "length_function = len"
   ]
  },
  {
   "cell_type": "markdown",
   "id": "c5919393-b241-49c8-8bf8-c7fbb1d4a363",
   "metadata": {},
   "source": [
    "### 3.1. `CharacterTextSplitter`"
   ]
  },
  {
   "cell_type": "code",
   "execution_count": 4,
   "id": "ce6c112c-91b4-4a6f-9f2d-5f4407104476",
   "metadata": {},
   "outputs": [],
   "source": [
    "character_splitter = CharacterTextSplitter(\n",
    "    separator=\"\",\n",
    "    chunk_size=chunk_size,\n",
    "    chunk_overlap=chunk_overlap,\n",
    "    length_function=length_function,\n",
    "    is_separator_regex=True\n",
    ")\n",
    "\n",
    "charactersplitter_results = character_splitter.split_text(txt)"
   ]
  },
  {
   "cell_type": "code",
   "execution_count": 5,
   "id": "923ad5fd-024d-4137-a801-78a61cafaa99",
   "metadata": {},
   "outputs": [
    {
     "name": "stdout",
     "output_type": "stream",
     "text": [
      "Cloud computing maakt het mogelijk om rekenkracht en opslag via het internet te gebruiken zonder dat gebruikers lokale servers hoeven te beheren. Dit biedt schaalbaarheid, flexibiliteit en kostenbesparing, vooral voor bedrijven die snel willen groeien of wereldwijd actief zijn.\n",
      "\n",
      "Virtualisatie stelt\n"
     ]
    }
   ],
   "source": [
    "print(charactersplitter_results[0])"
   ]
  },
  {
   "cell_type": "markdown",
   "id": "3b26fd35-a8b8-4782-a215-0546062237c3",
   "metadata": {},
   "source": [
    "### 3.2. `RecursiveCharacterTextSplitter`"
   ]
  },
  {
   "cell_type": "code",
   "execution_count": 6,
   "id": "e37b2280-b602-40da-b475-39959d39b42a",
   "metadata": {},
   "outputs": [],
   "source": [
    "recursive_splitter = RecursiveCharacterTextSplitter(\n",
    "    chunk_size=chunk_size,\n",
    "    chunk_overlap=chunk_overlap,\n",
    "    length_function=length_function,\n",
    "    is_separator_regex=True\n",
    ")\n",
    "\n",
    "recursive_splitter_results = recursive_splitter.split_text(txt)"
   ]
  },
  {
   "cell_type": "code",
   "execution_count": 7,
   "id": "b6b3d192-72d3-4953-989f-1471645eb7f1",
   "metadata": {},
   "outputs": [
    {
     "name": "stdout",
     "output_type": "stream",
     "text": [
      "Cloud computing maakt het mogelijk om rekenkracht en opslag via het internet te gebruiken zonder dat gebruikers lokale servers hoeven te beheren. Dit biedt schaalbaarheid, flexibiliteit en kostenbesparing, vooral voor bedrijven die snel willen groeien of wereldwijd actief zijn.\n"
     ]
    }
   ],
   "source": [
    "print(recursive_splitter_results[0])"
   ]
  },
  {
   "cell_type": "markdown",
   "id": "a8336e00-41b9-4e35-a7b6-5919df5b9a93",
   "metadata": {},
   "source": [
    "### 3.3. `SemanticChunker`"
   ]
  },
  {
   "cell_type": "code",
   "execution_count": 8,
   "id": "b742c64b-4eb3-4846-b9fd-e536fc39c8a2",
   "metadata": {},
   "outputs": [],
   "source": [
    "embedding_model = 'BAAI/bge-m3'\n",
    "embeddings = HuggingFaceEmbeddings(model_name=embedding_model)"
   ]
  },
  {
   "cell_type": "code",
   "execution_count": 9,
   "id": "d03cba31-51e5-426f-9d52-db8b4a9f5f6d",
   "metadata": {},
   "outputs": [],
   "source": [
    "text_splitter = SemanticChunker(\n",
    "    embeddings,\n",
    "    breakpoint_threshold_type=\"percentile\",\n",
    "    breakpoint_threshold_amount = 0.7,\n",
    ")\n",
    "\n",
    "semanticchunker_results = text_splitter.split_text(txt)"
   ]
  },
  {
   "cell_type": "code",
   "execution_count": 10,
   "id": "cc4edeaf-085f-427c-a4fb-f2c730e3164b",
   "metadata": {},
   "outputs": [
    {
     "name": "stdout",
     "output_type": "stream",
     "text": [
      "Cloud computing maakt het mogelijk om rekenkracht en opslag via het internet te gebruiken zonder dat gebruikers lokale servers hoeven te beheren.\n"
     ]
    }
   ],
   "source": [
    "print(semanticchunker_results[0])"
   ]
  },
  {
   "cell_type": "markdown",
   "id": "7d40b2aa-fe45-4d54-905f-16eb26823dd9",
   "metadata": {},
   "source": [
    "## 4. Besluit"
   ]
  },
  {
   "cell_type": "markdown",
   "id": "2159cb4e-04e8-4996-b3e9-d815b5556fef",
   "metadata": {},
   "source": [
    "Bij het nader bekijken van de gegenereerde chunks, merken we het volgende:\n",
    "\n",
    "- De `CharacterTextSplitter` splitst tekst op een eenvoudige, mechanische manier. Het knipt de tekst zodra de opgegeven limiet is bereikt, ongeacht of dat midden in een woord of zin gebeurt. Deze aanpak is snel en simpel, maar houdt geen rekening met de structuur of betekenis van de tekst. Hierdoor verliezen we potentieel belangrijke context. \n",
    "\n",
    "- De `RecursiveCharacterTextSplitter` probeert de tekst zo logisch mogelijk op te splitsen. Het gebruikt een lijst van scheidingstekens en zoekt telkens het meest geschikte punt om te splitsen, zolang het binnen de ingestelde lengte past. Pas als er geen logisch scheidingspunt gevonden wordt, splitst hij zoals de CharacterTextSplitter. Deze splitter is dus slimmer dan `CharacterTextSplitter`\n",
    "\n",
    "- Hoewel de `SemanticChunker` in theorie veelbelovend is, stoten we in de praktijk op een belangrijk nadeel. Deze splitter verdeelt tekst vaak in kleine chunks, zoals individuele zinnen. Maar sommige zinnen vormen samen één betekenisvol geheel: ze bouwen voort op elkaar of verduidelijken elkaar. Wanneer zulke zinnen in aparte chunks terechtkomen, en slechts één ervan wordt opgehaald tijdens retrieval, gaat cruciale context verloren. Dit kan ertoe leiden dat het LLM het antwoord baseert op een te beperkt fragment en daardoor onnauwkeurig of onvolledig antwoordt."
   ]
  },
  {
   "cell_type": "markdown",
   "id": "19396070-1af0-4b22-8168-965196185f56",
   "metadata": {},
   "source": [
    "## Intermezzo: Chunking strategie voor RAG-pijplijn"
   ]
  },
  {
   "cell_type": "markdown",
   "id": "6feb9063-87aa-467f-8c04-3bd0e4b01ee0",
   "metadata": {},
   "source": [
    "In dit [Notebook](./Tekstextractie_tekst.ipynb) hebben we gezien hoe tekst uit PDF-bestanden op een zeer envoudig manier ge-extraheerd kunnen worden met tools in de aard van [PyMuPDF](https://pymupdf.readthedocs.io/en/latest/). Echter, zorgt dit voor een moeilijkere chunkingproces. \n",
    "\n",
    "Wanneer we platte tekst uit PDF-bestanden extraheren, gaat de oorspronkelijke structuur verloren. Wat overblijft, is een zee van tekst zonder duidelijke indeling. Voor het aanmaken van chunks kunnen we dus niet vertrouwen op de oorspronkelijke structuur om samenhangende stukken te creëren. Daarom moeten we zorgvuldiger te werk gaan bij het chunkingproces. Als we zomaar chunkeren, bestaat het risico dat we suboptimale chunks aanmaken, waardoor de LLM geen volledig beeld krijgt van de inhoud.\n",
    "\n",
    "Hier volgt de redenering achter de strategie die we zullen hanteren bij de RAG-pijplijn:\n",
    "\n",
    "Eerst enkele parameters oplijsten:\n",
    "\n",
    "- De meeste text splitters van Langchain hebben een parameter waarmee je de lengte van de chunks bepaalt. Deze wordt uitgedrukt in characters, terwijl de contextlengte van taalmodellen wordt aangegeven in tokens. We moeten dus een manier hebben om tokens naar characters (en omgekeerd) te vertalen. In de praktijk wordt aangenomen dat één token gemiddeld overeenkomt met vier characters. We zullen dit uitgangspunt hanteren.\n",
    "- [Hier](../1.%20LLM/QuantFactory_Aya-23-8B-GGUF.ipynb) onderzochten we hoe geschikt het model `QuantFactory/aya-23-8B-GGUF` is qua Nederlandstalige vaardigheden en uitvoeringstijd. Aangezien we verder zullen werken met dit model, moeten we zijn contextvenster in rekening brengen. Volgens de [modelkaart](https://huggingface.co/QuantFactory/aya-23-8B-GGUF) heeft dit model een contextvenster van 8192 tokens, wat overeenkomt met ongeveer 32 768 characters.\n",
    "- Characters vormen samen woorden. Voor de menselijke geest is het makkelijker om in woorden te redeneren. Het gemiddeld aantal letters per Nederlands (en ook Engels) woord is ongeveer vijf (zie [hier](https://pubmed.ncbi.nlm.nih.gov/33910411/)). Dit betekent dat 32 768 characters ongeveer 6554 woorden vertegenwoordigen.\n",
    "\n",
    "Samenvattend: de vraag van de gebruiker, de instructies voor de LLM en de geselecteerde context moeten samen binnen 6554 woorden passen.\n",
    "\n",
    "Daarnaast geloven we dat de structuur van een tekst vaak ook de onderliggende semantiek weerspiegelt: zinnen binnen een paragraaf behandelen meestal hetzelfde kernidee, en paragrafen binnen dezelfde sectie hebben doorgaans betrekking op hetzelfde onderwerp. Daarom kiezen we ervoor om onze chunks zo te maken dat (hopelijk) paragrafen samenblijven:\n",
    "\n",
    "- Een gemiddelde paragraaf bevat tussen 100 en 200 woorden. We nemen de bovengrens van 200 woorden per paragraaf als referentie.\n",
    "- Twee opeenvolgende paragrafen kunnen inhoudelijk sterk verbonden zijn. Om de LLM een ruimer contextbeeld te geven, besluiten we dat een chunk idealiter twee opeenvolgende paragrafen moet bevatten. Elke chunk zal dus ongeveer 400 woorden omvatten.\n",
    "- 400 woorden → ongeveer 2000 characters → ongeveer 500 tokens.\n",
    "\n",
    "Met deze chunkgrootte behouden we voldoende speling binnen het contextvenster van 8192 tokens: er blijven ongeveer 7692 tokens over voor de gebruikersvraag, de instructies en eventuele grotere chunks indien het nodig blijkt te zijn."
   ]
  }
 ],
 "metadata": {
  "kernelspec": {
   "display_name": "Python 3 (ipykernel)",
   "language": "python",
   "name": "python3"
  },
  "language_info": {
   "codemirror_mode": {
    "name": "ipython",
    "version": 3
   },
   "file_extension": ".py",
   "mimetype": "text/x-python",
   "name": "python",
   "nbconvert_exporter": "python",
   "pygments_lexer": "ipython3",
   "version": "3.12.9"
  }
 },
 "nbformat": 4,
 "nbformat_minor": 5
}
